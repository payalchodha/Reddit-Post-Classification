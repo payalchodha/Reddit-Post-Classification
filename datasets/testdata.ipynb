{
 "cells": [
  {
   "cell_type": "markdown",
   "metadata": {},
   "source": [
    "# Making a test file for testing my model on the unseen data"
   ]
  },
  {
   "cell_type": "code",
   "execution_count": 1,
   "metadata": {},
   "outputs": [],
   "source": [
    "import praw\n",
    "import pandas as pd"
   ]
  },
  {
   "cell_type": "code",
   "execution_count": 2,
   "metadata": {},
   "outputs": [],
   "source": [
    "#use your own  info below to provide to the wrapper to pull from the API.\n",
    "\n"
   ]
  },
  {
   "cell_type": "code",
   "execution_count": 3,
   "metadata": {},
   "outputs": [],
   "source": [
    "from psaw import PushshiftAPI\n",
    "import time"
   ]
  },
  {
   "cell_type": "code",
   "execution_count": 5,
   "metadata": {},
   "outputs": [],
   "source": [
    "api = PushshiftAPI(reddit)"
   ]
  },
  {
   "cell_type": "code",
   "execution_count": 6,
   "metadata": {
    "scrolled": true
   },
   "outputs": [
    {
     "name": "stdout",
     "output_type": "stream",
     "text": [
      "100\n",
      "200\n",
      "300\n",
      "400\n",
      "500\n"
     ]
    }
   ],
   "source": [
    "travel_dict = { \"title\":[],\n",
    "#             \"score\":[],\n",
    "#             \"id\":[],\n",
    "#             \"url\":[], \n",
    "#             \"comms_num\": [],\n",
    "#             \"created\": [],\n",
    "            \"body\":[]\n",
    "              }\n",
    "counter = 0 # initializing counting variable\n",
    "sleep_counter = 0 # initializing sleep_counter variable\n",
    "for item in api.search_submissions(subreddit='travel', limit=500):\n",
    "    travel_dict[\"title\"].append(item.title)\n",
    "#     topics_dict[\"score\"].append(item.score)\n",
    "#     topics_dict[\"id\"].append(item.id)\n",
    "#     topics_dict[\"url\"].append(item.url)\n",
    "#     topics_dict[\"comms_num\"].append(item.num_comments)\n",
    "#     topics_dict[\"created\"].append(item.created)\n",
    "    travel_dict[\"body\"].append(item.selftext)\n",
    "    counter +=1\n",
    "    sleep_counter += 1\n",
    "    if sleep_counter > 99:\n",
    "        print(counter)\n",
    "        time.sleep(3)\n",
    "        sleep_counter = 0"
   ]
  },
  {
   "cell_type": "code",
   "execution_count": 7,
   "metadata": {},
   "outputs": [
    {
     "data": {
      "text/html": [
       "<div>\n",
       "<style scoped>\n",
       "    .dataframe tbody tr th:only-of-type {\n",
       "        vertical-align: middle;\n",
       "    }\n",
       "\n",
       "    .dataframe tbody tr th {\n",
       "        vertical-align: top;\n",
       "    }\n",
       "\n",
       "    .dataframe thead th {\n",
       "        text-align: right;\n",
       "    }\n",
       "</style>\n",
       "<table border=\"1\" class=\"dataframe\">\n",
       "  <thead>\n",
       "    <tr style=\"text-align: right;\">\n",
       "      <th></th>\n",
       "      <th>title</th>\n",
       "      <th>body</th>\n",
       "    </tr>\n",
       "  </thead>\n",
       "  <tbody>\n",
       "    <tr>\n",
       "      <td>0</td>\n",
       "      <td>indianapolis locals help me out</td>\n",
       "      <td>[removed]</td>\n",
       "    </tr>\n",
       "    <tr>\n",
       "      <td>1</td>\n",
       "      <td>Amoudi Bay, Santorini Greece July 13</td>\n",
       "      <td></td>\n",
       "    </tr>\n",
       "    <tr>\n",
       "      <td>2</td>\n",
       "      <td>Belize travel</td>\n",
       "      <td>I am looking for a place on the beach for an e...</td>\n",
       "    </tr>\n",
       "    <tr>\n",
       "      <td>3</td>\n",
       "      <td>Dusk. Seattle skyline.</td>\n",
       "      <td></td>\n",
       "    </tr>\n",
       "    <tr>\n",
       "      <td>4</td>\n",
       "      <td>first time, but not the last in NYC and had to...</td>\n",
       "      <td></td>\n",
       "    </tr>\n",
       "  </tbody>\n",
       "</table>\n",
       "</div>"
      ],
      "text/plain": [
       "                                               title  \\\n",
       "0                    indianapolis locals help me out   \n",
       "1               Amoudi Bay, Santorini Greece July 13   \n",
       "2                                      Belize travel   \n",
       "3                             Dusk. Seattle skyline.   \n",
       "4  first time, but not the last in NYC and had to...   \n",
       "\n",
       "                                                body  \n",
       "0                                          [removed]  \n",
       "1                                                     \n",
       "2  I am looking for a place on the beach for an e...  \n",
       "3                                                     \n",
       "4                                                     "
      ]
     },
     "execution_count": 7,
     "metadata": {},
     "output_type": "execute_result"
    }
   ],
   "source": [
    "df_travel =  pd.DataFrame(travel_dict)\n",
    "\n",
    "df_travel.head()"
   ]
  },
  {
   "cell_type": "code",
   "execution_count": 8,
   "metadata": {},
   "outputs": [],
   "source": [
    "df_travel['body'] = df_travel.body.replace('[removed]',\"\")"
   ]
  },
  {
   "cell_type": "code",
   "execution_count": 9,
   "metadata": {},
   "outputs": [],
   "source": [
    "df_travel['body'] = df_travel.body.replace('[deleted]',\"\")"
   ]
  },
  {
   "cell_type": "code",
   "execution_count": 10,
   "metadata": {},
   "outputs": [],
   "source": [
    "df_travel['status'] = df_travel['title'] + df_travel['body']"
   ]
  },
  {
   "cell_type": "code",
   "execution_count": 42,
   "metadata": {},
   "outputs": [],
   "source": [
    "df_travel['target'] = 1 "
   ]
  },
  {
   "cell_type": "code",
   "execution_count": 43,
   "metadata": {},
   "outputs": [
    {
     "data": {
      "text/html": [
       "<div>\n",
       "<style scoped>\n",
       "    .dataframe tbody tr th:only-of-type {\n",
       "        vertical-align: middle;\n",
       "    }\n",
       "\n",
       "    .dataframe tbody tr th {\n",
       "        vertical-align: top;\n",
       "    }\n",
       "\n",
       "    .dataframe thead th {\n",
       "        text-align: right;\n",
       "    }\n",
       "</style>\n",
       "<table border=\"1\" class=\"dataframe\">\n",
       "  <thead>\n",
       "    <tr style=\"text-align: right;\">\n",
       "      <th></th>\n",
       "      <th>status</th>\n",
       "      <th>target</th>\n",
       "    </tr>\n",
       "  </thead>\n",
       "  <tbody>\n",
       "    <tr>\n",
       "      <td>0</td>\n",
       "      <td>indianapolis locals help me out</td>\n",
       "      <td>1</td>\n",
       "    </tr>\n",
       "    <tr>\n",
       "      <td>1</td>\n",
       "      <td>Amoudi Bay, Santorini Greece July 13</td>\n",
       "      <td>1</td>\n",
       "    </tr>\n",
       "    <tr>\n",
       "      <td>2</td>\n",
       "      <td>Belize travelI am looking for a place on the b...</td>\n",
       "      <td>1</td>\n",
       "    </tr>\n",
       "    <tr>\n",
       "      <td>3</td>\n",
       "      <td>Dusk. Seattle skyline.</td>\n",
       "      <td>1</td>\n",
       "    </tr>\n",
       "    <tr>\n",
       "      <td>4</td>\n",
       "      <td>first time, but not the last in NYC and had to...</td>\n",
       "      <td>1</td>\n",
       "    </tr>\n",
       "  </tbody>\n",
       "</table>\n",
       "</div>"
      ],
      "text/plain": [
       "                                              status  target\n",
       "0                    indianapolis locals help me out       1\n",
       "1               Amoudi Bay, Santorini Greece July 13       1\n",
       "2  Belize travelI am looking for a place on the b...       1\n",
       "3                             Dusk. Seattle skyline.       1\n",
       "4  first time, but not the last in NYC and had to...       1"
      ]
     },
     "execution_count": 43,
     "metadata": {},
     "output_type": "execute_result"
    }
   ],
   "source": [
    "df_travel.head()"
   ]
  },
  {
   "cell_type": "code",
   "execution_count": 12,
   "metadata": {},
   "outputs": [],
   "source": [
    "df_travel.drop(columns=['title','body'],inplace= True)"
   ]
  },
  {
   "cell_type": "code",
   "execution_count": 14,
   "metadata": {},
   "outputs": [],
   "source": [
    "def deEmojify(inputString):\n",
    "    return inputString.encode('ascii', 'ignore').decode('ascii')\n",
    "\n",
    "for i in range(len(df_travel['status'])):\n",
    "    df_travel['status'][i] = deEmojify(df_travel['status'][i])"
   ]
  },
  {
   "cell_type": "code",
   "execution_count": 15,
   "metadata": {},
   "outputs": [],
   "source": [
    "df_travel['status'] = df_travel.status.replace('http\\S+', \"\", regex=True).replace('www\\S+', '', regex=True).replace('#\\S+', '', regex=True).replace('\\n\\n\\S+', '', regex=True)"
   ]
  },
  {
   "cell_type": "code",
   "execution_count": 49,
   "metadata": {},
   "outputs": [],
   "source": [
    "df_travel.to_csv(\"./test_travel.csv\")"
   ]
  },
  {
   "cell_type": "code",
   "execution_count": 18,
   "metadata": {
    "scrolled": true
   },
   "outputs": [
    {
     "name": "stdout",
     "output_type": "stream",
     "text": [
      "100\n",
      "200\n",
      "300\n"
     ]
    }
   ],
   "source": [
    "awards_dict = { \"title\":[],\n",
    "#             \"score\":[],\n",
    "#             \"id\":[],\n",
    "#             \"url\":[], \n",
    "#             \"comms_num\": [],\n",
    "#             \"created\": [],\n",
    "            \"body\":[]\n",
    "              }\n",
    "counter = 0 # initializing counting variable\n",
    "sleep_counter = 0 # initializing sleep_counter variable\n",
    "for item in api.search_submissions(subreddit='awardtravel', limit= 300):\n",
    "    awards_dict[\"title\"].append(item.title)\n",
    "#     topics_dict[\"score\"].append(item.score)\n",
    "#     topics_dict[\"id\"].append(item.id)\n",
    "#     topics_dict[\"url\"].append(item.url)\n",
    "#     topics_dict[\"comms_num\"].append(item.num_comments)\n",
    "#     topics_dict[\"created\"].append(item.created)\n",
    "    awards_dict[\"body\"].append(item.selftext)\n",
    "    counter +=1\n",
    "    sleep_counter += 1\n",
    "    if sleep_counter > 99:\n",
    "        print(counter)\n",
    "        time.sleep(3)\n",
    "        sleep_counter = 0"
   ]
  },
  {
   "cell_type": "code",
   "execution_count": 19,
   "metadata": {},
   "outputs": [
    {
     "data": {
      "text/plain": [
       "(300, 2)"
      ]
     },
     "execution_count": 19,
     "metadata": {},
     "output_type": "execute_result"
    }
   ],
   "source": [
    "df_awards = pd.DataFrame(awards_dict)\n",
    "\n",
    "df_awards.shape"
   ]
  },
  {
   "cell_type": "code",
   "execution_count": 20,
   "metadata": {},
   "outputs": [],
   "source": [
    "df_awards['body'] = df_awards.body.replace('[removed]',\"\")"
   ]
  },
  {
   "cell_type": "code",
   "execution_count": 21,
   "metadata": {},
   "outputs": [],
   "source": [
    "df_awards['body'] = df_awards.body.replace('[deleted]',\"\")"
   ]
  },
  {
   "cell_type": "code",
   "execution_count": 22,
   "metadata": {},
   "outputs": [],
   "source": [
    "df_awards['status'] = df_awards['title'] + df_awards['body']"
   ]
  },
  {
   "cell_type": "code",
   "execution_count": 23,
   "metadata": {},
   "outputs": [],
   "source": [
    "df_awards.drop(columns=['title','body'],inplace= True)"
   ]
  },
  {
   "cell_type": "code",
   "execution_count": 24,
   "metadata": {},
   "outputs": [],
   "source": [
    "def deEmojify(inputString):\n",
    "    return inputString.encode('ascii', 'ignore').decode('ascii')\n",
    "\n",
    "for i in range(len(df_awards['status'])):\n",
    "    df_awards['status'][i] = deEmojify(df_awards['status'][i])"
   ]
  },
  {
   "cell_type": "code",
   "execution_count": 25,
   "metadata": {},
   "outputs": [],
   "source": [
    "df_awards['status'] = df_awards.status.replace('http\\S+', '', regex=True).replace('www\\S+', '', regex=True).replace('#\\S+', '', regex=True).replace('\\n\\n\\S+', '', regex=True)"
   ]
  },
  {
   "cell_type": "code",
   "execution_count": 44,
   "metadata": {},
   "outputs": [],
   "source": [
    "df_awards['target']=0"
   ]
  },
  {
   "cell_type": "code",
   "execution_count": 45,
   "metadata": {},
   "outputs": [
    {
     "data": {
      "text/plain": [
       "status    0\n",
       "target    0\n",
       "dtype: int64"
      ]
     },
     "execution_count": 45,
     "metadata": {},
     "output_type": "execute_result"
    }
   ],
   "source": [
    "df_awards.isnull().sum()"
   ]
  },
  {
   "cell_type": "code",
   "execution_count": 50,
   "metadata": {},
   "outputs": [],
   "source": [
    "df_awards.to_csv(\"./test_awards.csv\")"
   ]
  },
  {
   "cell_type": "code",
   "execution_count": 51,
   "metadata": {},
   "outputs": [],
   "source": [
    "final_test = pd.concat([df_travel,df_awards],axis=0,ignore_index=True)"
   ]
  },
  {
   "cell_type": "code",
   "execution_count": 52,
   "metadata": {},
   "outputs": [
    {
     "data": {
      "text/html": [
       "<div>\n",
       "<style scoped>\n",
       "    .dataframe tbody tr th:only-of-type {\n",
       "        vertical-align: middle;\n",
       "    }\n",
       "\n",
       "    .dataframe tbody tr th {\n",
       "        vertical-align: top;\n",
       "    }\n",
       "\n",
       "    .dataframe thead th {\n",
       "        text-align: right;\n",
       "    }\n",
       "</style>\n",
       "<table border=\"1\" class=\"dataframe\">\n",
       "  <thead>\n",
       "    <tr style=\"text-align: right;\">\n",
       "      <th></th>\n",
       "      <th>status</th>\n",
       "      <th>target</th>\n",
       "    </tr>\n",
       "  </thead>\n",
       "  <tbody>\n",
       "    <tr>\n",
       "      <td>0</td>\n",
       "      <td>indianapolis locals help me out</td>\n",
       "      <td>1</td>\n",
       "    </tr>\n",
       "    <tr>\n",
       "      <td>1</td>\n",
       "      <td>Amoudi Bay, Santorini Greece July 13</td>\n",
       "      <td>1</td>\n",
       "    </tr>\n",
       "    <tr>\n",
       "      <td>2</td>\n",
       "      <td>Belize travelI am looking for a place on the b...</td>\n",
       "      <td>1</td>\n",
       "    </tr>\n",
       "    <tr>\n",
       "      <td>3</td>\n",
       "      <td>Dusk. Seattle skyline.</td>\n",
       "      <td>1</td>\n",
       "    </tr>\n",
       "    <tr>\n",
       "      <td>4</td>\n",
       "      <td>first time, but not the last in NYC and had to...</td>\n",
       "      <td>1</td>\n",
       "    </tr>\n",
       "    <tr>\n",
       "      <td>...</td>\n",
       "      <td>...</td>\n",
       "      <td>...</td>\n",
       "    </tr>\n",
       "    <tr>\n",
       "      <td>795</td>\n",
       "      <td>Another ANA RTW booking reportI'm defending my...</td>\n",
       "      <td>0</td>\n",
       "    </tr>\n",
       "    <tr>\n",
       "      <td>796</td>\n",
       "      <td>General Rule of Thumb for booking AI Hotels wi...</td>\n",
       "      <td>0</td>\n",
       "    </tr>\n",
       "    <tr>\n",
       "      <td>797</td>\n",
       "      <td>How to decide between Lufthansas First, Busine...</td>\n",
       "      <td>0</td>\n",
       "    </tr>\n",
       "    <tr>\n",
       "      <td>798</td>\n",
       "      <td>We provided air tickets in all usa.</td>\n",
       "      <td>0</td>\n",
       "    </tr>\n",
       "    <tr>\n",
       "      <td>799</td>\n",
       "      <td>How can some airlines offer insane first class...</td>\n",
       "      <td>0</td>\n",
       "    </tr>\n",
       "  </tbody>\n",
       "</table>\n",
       "<p>800 rows × 2 columns</p>\n",
       "</div>"
      ],
      "text/plain": [
       "                                                status  target\n",
       "0                      indianapolis locals help me out       1\n",
       "1                 Amoudi Bay, Santorini Greece July 13       1\n",
       "2    Belize travelI am looking for a place on the b...       1\n",
       "3                               Dusk. Seattle skyline.       1\n",
       "4    first time, but not the last in NYC and had to...       1\n",
       "..                                                 ...     ...\n",
       "795  Another ANA RTW booking reportI'm defending my...       0\n",
       "796  General Rule of Thumb for booking AI Hotels wi...       0\n",
       "797  How to decide between Lufthansas First, Busine...       0\n",
       "798                We provided air tickets in all usa.       0\n",
       "799  How can some airlines offer insane first class...       0\n",
       "\n",
       "[800 rows x 2 columns]"
      ]
     },
     "execution_count": 52,
     "metadata": {},
     "output_type": "execute_result"
    }
   ],
   "source": [
    "final_test"
   ]
  },
  {
   "cell_type": "code",
   "execution_count": 53,
   "metadata": {},
   "outputs": [],
   "source": [
    "import re"
   ]
  },
  {
   "cell_type": "code",
   "execution_count": 54,
   "metadata": {},
   "outputs": [],
   "source": [
    "def status_to_words(raw_status):\n",
    "    # 2. Remove non-letters.\n",
    "    letters_only = re.sub(\"[^a-zA-Z]\", \" \", raw_status)\n",
    "    \n",
    "    # 3. Convert to lower case, split into individual words.\n",
    "    words = letters_only.lower().split()\n",
    "    return(\" \".join(words))"
   ]
  },
  {
   "cell_type": "code",
   "execution_count": 55,
   "metadata": {},
   "outputs": [
    {
     "name": "stdout",
     "output_type": "stream",
     "text": [
      "Cleaning and parsing the  status \n"
     ]
    }
   ],
   "source": [
    "# Initialize an empty list to hold the clean reviews.\n",
    "clean_status = []\n",
    "# clean_test_reviews = []\n",
    "\n",
    "print(\"Cleaning and parsing the  status \")\n",
    "\n",
    "j = 0\n",
    "for status in final_test['status']:\n",
    "    # Convert status to words, then append to clean_status.\n",
    "    clean_status.append(status_to_words(status))\n",
    "    \n",
    "    # If the index is divisible by 1000, print a message\n",
    "    if (j + 1) % 1000 == 0:\n",
    "        print(f'status {j + 1} of {final_test.shape[0]}.')\n",
    "    \n",
    "    j += 1\n"
   ]
  },
  {
   "cell_type": "code",
   "execution_count": 56,
   "metadata": {},
   "outputs": [],
   "source": [
    "final_test['status'] = clean_status"
   ]
  },
  {
   "cell_type": "code",
   "execution_count": 57,
   "metadata": {},
   "outputs": [
    {
     "data": {
      "text/html": [
       "<div>\n",
       "<style scoped>\n",
       "    .dataframe tbody tr th:only-of-type {\n",
       "        vertical-align: middle;\n",
       "    }\n",
       "\n",
       "    .dataframe tbody tr th {\n",
       "        vertical-align: top;\n",
       "    }\n",
       "\n",
       "    .dataframe thead th {\n",
       "        text-align: right;\n",
       "    }\n",
       "</style>\n",
       "<table border=\"1\" class=\"dataframe\">\n",
       "  <thead>\n",
       "    <tr style=\"text-align: right;\">\n",
       "      <th></th>\n",
       "      <th>status</th>\n",
       "      <th>target</th>\n",
       "    </tr>\n",
       "  </thead>\n",
       "  <tbody>\n",
       "    <tr>\n",
       "      <td>0</td>\n",
       "      <td>indianapolis locals help me out</td>\n",
       "      <td>1</td>\n",
       "    </tr>\n",
       "    <tr>\n",
       "      <td>1</td>\n",
       "      <td>amoudi bay santorini greece july</td>\n",
       "      <td>1</td>\n",
       "    </tr>\n",
       "    <tr>\n",
       "      <td>2</td>\n",
       "      <td>belize traveli am looking for a place on the b...</td>\n",
       "      <td>1</td>\n",
       "    </tr>\n",
       "    <tr>\n",
       "      <td>3</td>\n",
       "      <td>dusk seattle skyline</td>\n",
       "      <td>1</td>\n",
       "    </tr>\n",
       "    <tr>\n",
       "      <td>4</td>\n",
       "      <td>first time but not the last in nyc and had to ...</td>\n",
       "      <td>1</td>\n",
       "    </tr>\n",
       "    <tr>\n",
       "      <td>...</td>\n",
       "      <td>...</td>\n",
       "      <td>...</td>\n",
       "    </tr>\n",
       "    <tr>\n",
       "      <td>795</td>\n",
       "      <td>another ana rtw booking reporti m defending my...</td>\n",
       "      <td>0</td>\n",
       "    </tr>\n",
       "    <tr>\n",
       "      <td>796</td>\n",
       "      <td>general rule of thumb for booking ai hotels wi...</td>\n",
       "      <td>0</td>\n",
       "    </tr>\n",
       "    <tr>\n",
       "      <td>797</td>\n",
       "      <td>how to decide between lufthansas first busines...</td>\n",
       "      <td>0</td>\n",
       "    </tr>\n",
       "    <tr>\n",
       "      <td>798</td>\n",
       "      <td>we provided air tickets in all usa</td>\n",
       "      <td>0</td>\n",
       "    </tr>\n",
       "    <tr>\n",
       "      <td>799</td>\n",
       "      <td>how can some airlines offer insane first class...</td>\n",
       "      <td>0</td>\n",
       "    </tr>\n",
       "  </tbody>\n",
       "</table>\n",
       "<p>800 rows × 2 columns</p>\n",
       "</div>"
      ],
      "text/plain": [
       "                                                status  target\n",
       "0                      indianapolis locals help me out       1\n",
       "1                     amoudi bay santorini greece july       1\n",
       "2    belize traveli am looking for a place on the b...       1\n",
       "3                                 dusk seattle skyline       1\n",
       "4    first time but not the last in nyc and had to ...       1\n",
       "..                                                 ...     ...\n",
       "795  another ana rtw booking reporti m defending my...       0\n",
       "796  general rule of thumb for booking ai hotels wi...       0\n",
       "797  how to decide between lufthansas first busines...       0\n",
       "798                 we provided air tickets in all usa       0\n",
       "799  how can some airlines offer insane first class...       0\n",
       "\n",
       "[800 rows x 2 columns]"
      ]
     },
     "execution_count": 57,
     "metadata": {},
     "output_type": "execute_result"
    }
   ],
   "source": [
    "final_test"
   ]
  },
  {
   "cell_type": "code",
   "execution_count": 58,
   "metadata": {},
   "outputs": [],
   "source": [
    "final_test.to_csv(\"./test_file.csv\")"
   ]
  },
  {
   "cell_type": "code",
   "execution_count": null,
   "metadata": {},
   "outputs": [],
   "source": []
  }
 ],
 "metadata": {
  "kernelspec": {
   "display_name": "Python 3",
   "language": "python",
   "name": "python3"
  },
  "language_info": {
   "codemirror_mode": {
    "name": "ipython",
    "version": 3
   },
   "file_extension": ".py",
   "mimetype": "text/x-python",
   "name": "python",
   "nbconvert_exporter": "python",
   "pygments_lexer": "ipython3",
   "version": "3.7.3"
  }
 },
 "nbformat": 4,
 "nbformat_minor": 2
}
